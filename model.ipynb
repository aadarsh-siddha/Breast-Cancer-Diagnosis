{
 "cells": [
  {
   "cell_type": "code",
   "execution_count": 1,
   "metadata": {},
   "outputs": [],
   "source": [
    "# !pip install ucimlrepo\n",
    "from ucimlrepo import fetch_ucirepo \n",
    "import pandas as pd\n",
    "import numpy as np\n",
    "import math\n",
    "import seaborn as sns\n",
    "import matplotlib.pyplot as plt\n",
    "%matplotlib inline "
   ]
  },
  {
   "cell_type": "code",
   "execution_count": 47,
   "metadata": {},
   "outputs": [],
   "source": [
    "# fetch dataset \n",
    "breast_cancer_wisconsin_diagnostic = fetch_ucirepo(id=17) \n",
    "  \n",
    "# data (as pandas dataframes) \n",
    "df = breast_cancer_wisconsin_diagnostic.data.features \n",
    "labels = breast_cancer_wisconsin_diagnostic.data.targets "
   ]
  },
  {
   "cell_type": "code",
   "execution_count": 48,
   "metadata": {},
   "outputs": [],
   "source": [
    "def data_preparation(df, labels):\n",
    "    X = df.copy()\n",
    "    y = labels.copy()\n",
    "    X['mean_radius'] = (X['radius1'] + X['radius2'] + X['radius3']) / 3\n",
    "    X['mean_area'] = (X['area1'] + X['area2'] + X['area3']) / 3\n",
    "    X['mean_perimeter'] = (X['perimeter1'] + X['perimeter2'] + X['perimeter3']) / 3\n",
    "    \n",
    "    high_corr_columns = ['radius1', 'radius2', 'radius3', 'perimeter1', 'perimeter2', 'perimeter3', 'area1', 'area2', 'area3']\n",
    "    X.drop(columns=high_corr_columns, inplace=True)\n",
    "    \n",
    "    numerical_columns = ['texture1', 'smoothness1', 'compactness1', 'concavity1',\n",
    "       'concave_points1', 'symmetry1', 'fractal_dimension1', 'texture2',\n",
    "       'smoothness2', 'compactness2', 'concavity2', 'concave_points2',\n",
    "       'symmetry2', 'fractal_dimension2', 'texture3', 'smoothness3',\n",
    "       'compactness3', 'concavity3', 'concave_points3', 'symmetry3',\n",
    "       'fractal_dimension3', 'mean_radius', 'mean_area', 'mean_perimeter']\n",
    "    \n",
    "    for col in numerical_columns:\n",
    "        X[col] = np.cbrt(X[col])\n",
    "        \n",
    "        IQR = X[col].quantile(0.75) - X[col].quantile(0.25)\n",
    "\n",
    "        # Compute bounds\n",
    "        lower_bound = X[col].quantile(0.25) - 1.5 * IQR\n",
    "        upper_bound = X[col].quantile(0.75) + 1.5 * IQR\n",
    "\n",
    "        # Set values outside the bounds to NaN\n",
    "        X[col] = np.where(\n",
    "            (X[col] <= lower_bound) | (X[col] >= upper_bound),\n",
    "            np.nan,\n",
    "            X[col]\n",
    "        )\n",
    "        \n",
    "        X['target'] = np.where(y == 'M', 1, 0)\n",
    "        X.dropna(inplace=True)\n",
    "        X.reset_index(drop=True)\n",
    "        y = X['target']\n",
    "        X.drop(columns=['target'], inplace=True)\n",
    "        X = X.to_numpy()\n",
    "        X = np.column_stack((np.ones(X.shape[0]), X))\n",
    "        return X, y"
   ]
  },
  {
   "cell_type": "code",
   "execution_count": 49,
   "metadata": {},
   "outputs": [],
   "source": [
    "X, y = data_preparation(df, labels)"
   ]
  },
  {
   "cell_type": "code",
   "execution_count": 50,
   "metadata": {},
   "outputs": [],
   "source": [
    "from sklearn.model_selection import train_test_split\n",
    "X_train, X_test, y_train, y_test = train_test_split(X, y, test_size=0.2, random_state=42)\n",
    "X_train, X_val, y_train, y_val = train_test_split(X_train, y_train, test_size=0.25, random_state=42)"
   ]
  },
  {
   "cell_type": "code",
   "execution_count": 51,
   "metadata": {},
   "outputs": [],
   "source": [
    "from sklearn.linear_model import LogisticRegression\n",
    "from sklearn.metrics import accuracy_score\n",
    "from sklearn.metrics import confusion_matrix\n",
    "from sklearn.metrics import classification_report\n",
    "from sklearn.metrics import roc_auc_score\n",
    "from sklearn.metrics import roc_curve"
   ]
  },
  {
   "cell_type": "code",
   "execution_count": 53,
   "metadata": {},
   "outputs": [
    {
     "name": "stdout",
     "output_type": "stream",
     "text": [
      "Accuracy: 0.9646017699115044\n"
     ]
    },
    {
     "name": "stderr",
     "output_type": "stream",
     "text": [
      "/opt/anaconda3/envs/car-price-prediction-env/lib/python3.12/site-packages/sklearn/linear_model/_logistic.py:465: ConvergenceWarning: lbfgs failed to converge (status=1):\n",
      "STOP: TOTAL NO. OF ITERATIONS REACHED LIMIT.\n",
      "\n",
      "Increase the number of iterations (max_iter) or scale the data as shown in:\n",
      "    https://scikit-learn.org/stable/modules/preprocessing.html\n",
      "Please also refer to the documentation for alternative solver options:\n",
      "    https://scikit-learn.org/stable/modules/linear_model.html#logistic-regression\n",
      "  n_iter_i = _check_optimize_result(\n"
     ]
    }
   ],
   "source": [
    "lr = LogisticRegression()\n",
    "lr.fit(X_train, y_train)\n",
    "y_pred = lr.predict(X_val)\n",
    "print('Accuracy:', accuracy_score(y_val, y_pred))"
   ]
  },
  {
   "cell_type": "code",
   "execution_count": 54,
   "metadata": {},
   "outputs": [
    {
     "name": "stdout",
     "output_type": "stream",
     "text": [
      "Confusion Matrix:\n",
      "[[71  3]\n",
      " [ 1 38]]\n"
     ]
    }
   ],
   "source": [
    "print('Confusion Matrix:')\n",
    "print(confusion_matrix(y_val, y_pred))"
   ]
  },
  {
   "cell_type": "code",
   "execution_count": null,
   "metadata": {},
   "outputs": [],
   "source": []
  }
 ],
 "metadata": {
  "kernelspec": {
   "display_name": "car-price-prediction-env",
   "language": "python",
   "name": "python3"
  },
  "language_info": {
   "codemirror_mode": {
    "name": "ipython",
    "version": 3
   },
   "file_extension": ".py",
   "mimetype": "text/x-python",
   "name": "python",
   "nbconvert_exporter": "python",
   "pygments_lexer": "ipython3",
   "version": "3.12.8"
  }
 },
 "nbformat": 4,
 "nbformat_minor": 2
}
